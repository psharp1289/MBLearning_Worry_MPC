{
 "cells": [
  {
   "cell_type": "markdown",
   "metadata": {},
   "source": [
    "### Model of learning state transitions\n",
    "\n",
    "$S$ = States\n",
    "\n",
    "$A$ = Actions\n",
    "\n",
    "$\\eta_{positive}$ = Learning rate for state transitions paired with positive stimulus\n",
    "\n",
    "$\\eta_{negative}$ = Learning rate for state transitions paired with negative stimulus\n",
    "\n",
    "$\\eta_{neutral}$ = Learning rate for state transitions paired with neutral stimulus\n",
    "\n",
    "$O$ = Observed state \n",
    "\n",
    "$V$ = $P(S_{next}|A_{i},S_{current})$\n",
    "\n",
    "$V_{i+1}=V_{i} + \\eta \\cdot (O-V_{i})$"
   ]
  },
  {
   "cell_type": "code",
   "execution_count": 75,
   "metadata": {},
   "outputs": [
    {
     "name": "stdout",
     "output_type": "stream",
     "text": [
      "['threat', 'threat', 'threat', 'threat', 'threat', 'neutral', 'neutral', 'neutral', 'neutral', 'neutral']\n"
     ]
    },
    {
     "data": {
      "image/png": "[encoded data removed]",
      "text/plain": [
       "<Figure size 432x288 with 1 Axes>"
      ]
     },
     "metadata": {
      "needs_background": "light"
     },
     "output_type": "display_data"
    }
   ],
   "source": [
    "import numpy as np\n",
    "from random import shuffle\n",
    "import seaborn as sns\n",
    "import matplotlib.pyplot as plt\n",
    "\n",
    "\n",
    "#pre-determined outcomes reflect latent transition probabilities\n",
    "action1_outcomes=np.ones((4)).tolist()+np.zeros((6)).tolist()\n",
    "shuffle(action1_outcomes) #randomize sequence\n",
    "action2_outcomes=np.ones((6)).tolist()+np.zeros((4)).tolist()\n",
    "shuffle(action2_outcomes) #randomize sequence\n",
    "\n",
    "#starting values\n",
    "value1=0.5\n",
    "value2=0.5\n",
    "\n",
    "#learning rates\n",
    "eta_neutral=0.1\n",
    "e_t=[0.1,0.15,0.2,0.25,0.3]\n",
    "ending_values_threat=[]\n",
    "ending_values_neutral=[]\n",
    "\n",
    "for eta_threat in e_t:\n",
    "\n",
    "    # In the models below, I assume threat precedes common transitions\n",
    "    # Learn values for action 1\n",
    "    # When learning rate is equal between neutral and threat\n",
    "    for trial in range(len(action1_outcomes)):\n",
    "        current_outcome=action1_outcomes[trial]\n",
    "        value1=value1+eta_neutral*(current_outcome-value1)\n",
    "\n",
    "#     print('value 1 after undistorted learning: {}'.format(value1))\n",
    "\n",
    "    #learning rate is faster for threat relative to neutral\n",
    "    #re-set State-Prediction estimate\n",
    "    value1=0.5\n",
    "\n",
    "    for trial in range(len(action1_outcomes)):\n",
    "        current_outcome=action1_outcomes[trial]\n",
    "        if current_outcome==0:\n",
    "            value1=value1+eta_threat*(current_outcome-value1)\n",
    "        else:\n",
    "            value1=value1+eta_neutral*(current_outcome-value1)\n",
    "#     print('value 1 after learning is boosted for threat transitions: {}'.format(value1))\n",
    "\n",
    "    #learn values for action 2\n",
    "    # When learning rate is equal between neutral and threat\n",
    "    value2=0.5\n",
    "    for trial in range(len(action2_outcomes)):\n",
    "        current_outcome=action2_outcomes[trial]\n",
    "        value2=value2+eta_neutral*(current_outcome-value2)\n",
    "    ending_values_neutral.append(value2)\n",
    "    \n",
    "    #learning rate is faster for threat relative to neutral\n",
    "    # re-set state prediction estimate\n",
    "    value2=0.5\n",
    "    for trial in range(len(action2_outcomes)):\n",
    "        current_outcome=action2_outcomes[trial]\n",
    "        if current_outcome==1:\n",
    "            value2=value2+eta_threat*(current_outcome-value2)\n",
    "        else:\n",
    "            value2=value2+eta_neutral*(current_outcome-value2)\n",
    "#     print('value 2 after learning is boosted for threat transitions: {}'.format(value2))\n",
    "    ending_values_threat.append(value2)\n",
    "\n",
    "ending_all=ending_values_threat+ending_values_neutral #concatenate all resultant SP values\n",
    "labels=['threat']*5+['neutral']*5\n",
    "print(labels)\n",
    "lrs=(e_t*2)\n",
    "lrs=[x-0.1 for x in lrs]\n",
    "    \n",
    "ax=sns.lineplot(y=ending_all,x=lrs,hue=labels)\n",
    "ax.set_xlabel('Difference in learning rate (Threat > Neutral)')\n",
    "ax.set_ylabel('Estimate of state transition probability')\n",
    "plt.show()"
   ]
  }
 ],
 "metadata": {
  "kernelspec": {
   "display_name": "Python 3",
   "language": "python",
   "name": "python3"
  },
  "language_info": {
   "codemirror_mode": {
    "name": "ipython",
    "version": 3
   },
   "file_extension": ".py",
   "mimetype": "text/x-python",
   "name": "python",
   "nbconvert_exporter": "python",
   "pygments_lexer": "ipython3",
   "version": "3.7.5"
  }
 },
 "nbformat": 4,
 "nbformat_minor": 2
}
