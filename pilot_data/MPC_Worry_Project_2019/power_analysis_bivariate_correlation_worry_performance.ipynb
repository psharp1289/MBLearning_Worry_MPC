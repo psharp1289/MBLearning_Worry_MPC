{
 "cells": [
  {
   "cell_type": "markdown",
   "metadata": {},
   "source": [
    "# Power analysis for effect of task easiness on the correlation between worry and performance\n",
    "\n",
    "Even though those with chronic worry do poorly when the objectively difficult (60-40) state transitions, they should perform better when the task itself is much easier. Demonstrating this allows us to claim that chronic worriers are not simply distracted from the task in a way that's insensitive to a parameter that should improve performance."
   ]
  },
  {
   "cell_type": "code",
   "execution_count": 1,
   "metadata": {},
   "outputs": [
    {
     "name": "stdout",
     "output_type": "stream",
     "text": [
      "\n",
      "Effect size of difference between r1=0.45 and r2=0.10 is 0.3843649308629762\n",
      "\n",
      "sample size #1: 135\n",
      "\n",
      "effect size: 0.38\n",
      "\n",
      "sample size for study 2 = 62.70137480917786\n"
     ]
    }
   ],
   "source": [
    "from numpy import arctanh as rTOz\n",
    "from statsmodels.stats.power import zt_ind_solve_power as Zpower\n",
    "\n",
    "#two sample parameters\n",
    "n1=135\n",
    "es=0.38\n",
    "pow=0.8\n",
    "alp=0.05\n",
    "alt='larger'\n",
    "#transform pearsons corrs to Z\n",
    "r1=0.45\n",
    "r2=0.10\n",
    "z1=rTOz(r1)\n",
    "z2=rTOz(r2)\n",
    "print('\\nEffect size of difference between r1=0.45 and r2=0.10 is {}\\n'.format(z1-z2))\n",
    "\n",
    "ratio_fit=Zpower(alpha=alp,nobs1=n1,alternative=alt,effect_size=es,\n",
    "power=pow,ratio=None)\n",
    "\n",
    "print('sample size #1: {}\\n'.format(n1))\n",
    "print('effect size: {}\\n'.format(es))\n",
    "print('sample size for study 2 = {}'.format(ratio_fit*n1))"
   ]
  },
  {
   "cell_type": "code",
   "execution_count": null,
   "metadata": {},
   "outputs": [],
   "source": []
  }
 ],
 "metadata": {
  "kernelspec": {
   "display_name": "Python 3",
   "language": "python",
   "name": "python3"
  },
  "language_info": {
   "codemirror_mode": {
    "name": "ipython",
    "version": 3
   },
   "file_extension": ".py",
   "mimetype": "text/x-python",
   "name": "python",
   "nbconvert_exporter": "python",
   "pygments_lexer": "ipython3",
   "version": "3.7.3"
  }
 },
 "nbformat": 4,
 "nbformat_minor": 2
}
